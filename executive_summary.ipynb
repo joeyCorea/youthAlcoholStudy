{
 "cells": [
  {
   "cell_type": "markdown",
   "metadata": {},
   "source": [
    "*Please note: this project is still under construction but this kernel might serve as a useful landing page from which to access completed deliverables.*\n",
    "\n",
    "# Investigation into factors predicting student academic success, alcohol consumption and overall health\n",
    "\n",
    "# Executive Summary\n",
    "* During the data preparation and data understanding phases, it became apparent that the dataset might be too small to build an effective model.\n",
    "* Modelling continued to establish learning curves to see if emergent relationships could increase investor buy-in to recruit more participants.\n",
    "\n",
    "# Project Structure\n",
    "The output of the project is split between the following notebooks:\n",
    "* Introduction and business understanding (what you're currently reading).\n",
    "* Data Preparation, Understanding and Exploration.\n",
    "* Modelling Student Alcohol Consumption.\n",
    "\n",
    "# Business Understanding\n",
    "The aim of this data mining project is to:\n",
    "* investigate the Student Alcohol Consumption dataset for suitability to investigate the questions below.\n",
    "* to build and evaluate prediction models that:\n",
    "    * predict student alcohol consumption (specifically, problematic consumption).\n",
    "    * predict student academic achievement.\n",
    "    * predict overall student health.\n",
    "* to aid in this prediction, the dataset provides data on the student themselves, as well as their school, academic record, home situation, extracurricular activities and alcohol consumption.\n"
   ]
  },
  {
   "cell_type": "code",
   "execution_count": 1,
   "metadata": {
    "collapsed": true
   },
   "outputs": [],
   "source": [
    "import pandas as pd\n",
    "import numpy as np\n",
    "import matplotlib.ticker as ticker\n",
    "\n",
    "import matplotlib.pyplot as plt\n",
    "import seaborn as sns\n",
    "%matplotlib inline\n",
    "\n",
    "plt.rcParams.update({'font.size': 18})"
   ]
  }
 ],
 "metadata": {
  "kernelspec": {
   "display_name": "Python 3",
   "language": "python",
   "name": "python3"
  },
  "language_info": {
   "codemirror_mode": {
    "name": "ipython",
    "version": 3
   },
   "file_extension": ".py",
   "mimetype": "text/x-python",
   "name": "python",
   "nbconvert_exporter": "python",
   "pygments_lexer": "ipython3",
   "version": "3.6.1"
  }
 },
 "nbformat": 4,
 "nbformat_minor": 2
}
