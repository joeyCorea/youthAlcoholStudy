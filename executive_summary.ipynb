{
 "cells": [
  {
   "cell_type": "markdown",
   "metadata": {},
   "source": [
    "# Investigation into factors predicting student academic success, alcohol consumption and overall health\n",
    "\n",
    "The aim of this analysis is to:\n",
    "* identify factors correlated with student drinking.\n",
    "* analyse whether considering weekday vs weekend drinking suggests different predictors.\n",
    "* use the findings above to create a model to identify students at risk of high alcohol consumption.\n",
    "* evaluate the feature importance of the above mentioned indicators of alcohol use in predicting academic success.\n",
    "\n",
    "# Executive Summary\n",
    "\n",
    "# Business Understanding\n"
   ]
  },
  {
   "cell_type": "code",
   "execution_count": 1,
   "metadata": {
    "collapsed": true
   },
   "outputs": [],
   "source": [
    "import pandas as pd\n",
    "import numpy as np\n",
    "import matplotlib.ticker as ticker\n",
    "\n",
    "import matplotlib.pyplot as plt\n",
    "import seaborn as sns\n",
    "%matplotlib inline\n",
    "\n",
    "plt.rcParams.update({'font.size': 18})"
   ]
  }
 ],
 "metadata": {
  "kernelspec": {
   "display_name": "Python 3",
   "language": "python",
   "name": "python3"
  },
  "language_info": {
   "codemirror_mode": {
    "name": "ipython",
    "version": 3
   },
   "file_extension": ".py",
   "mimetype": "text/x-python",
   "name": "python",
   "nbconvert_exporter": "python",
   "pygments_lexer": "ipython3",
   "version": "3.6.1"
  }
 },
 "nbformat": 4,
 "nbformat_minor": 2
}
