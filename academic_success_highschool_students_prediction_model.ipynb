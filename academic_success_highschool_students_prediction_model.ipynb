{
 "cells": [
  {
   "cell_type": "markdown",
   "metadata": {},
   "source": [
    "# Model of predicting academic success of high school students\n",
    "\n",
    "This section of the analysis will attempt to construct a model to predict:\n",
    "\n",
    "* G3 - final grade (numeric: from 0 to 20, output target) final school grade\n",
    "* overall_grade  - a combination of G1, G2 and G3\n",
    "\n",
    "G1 - first period grade (numeric: from 0 to 20)\n",
    "G2 - second period grade (numeric: from 0 to 20)\n",
    "G3 - final grade (numeric: from 0 to 20, output target)"
   ]
  },
  {
   "cell_type": "code",
   "execution_count": 353,
   "metadata": {
    "collapsed": true
   },
   "outputs": [],
   "source": [
    "import pandas as pd\n",
    "import numpy as np\n",
    "import matplotlib.ticker as ticker\n",
    "from sklearn.model_selection import train_test_split\n",
    "%matplotlib inline \n",
    "#to allow plots to render in the notebook\n",
    "\n",
    "import matplotlib.pyplot as plt\n",
    "import seaborn as sns\n",
    "\n",
    "plt.rcParams.update({'font.size': 18})"
   ]
  },
  {
   "cell_type": "code",
   "execution_count": 354,
   "metadata": {
    "scrolled": true
   },
   "outputs": [
    {
     "name": "stdout",
     "output_type": "stream",
     "text": [
      "(1044, 48)\n",
      "Index(['Unnamed: 0', 'school', 'sex', 'age', 'address', 'famsize', 'Pstatus',\n",
      "       'Medu', 'Fedu', 'traveltime', 'studytime', 'failures', 'schoolsup',\n",
      "       'famsup', 'paid', 'activities', 'nursery', 'higher', 'internet',\n",
      "       'romantic', 'famrel', 'freetime', 'goout', 'subject', 'Mjob_at_home',\n",
      "       'Mjob_health', 'Mjob_other', 'Mjob_services', 'Mjob_teacher',\n",
      "       'Fjob_at_home', 'Fjob_health', 'Fjob_other', 'Fjob_services',\n",
      "       'Fjob_teacher', 'reason_course', 'reason_home', 'reason_other',\n",
      "       'reason_reputation', 'guardian_father', 'guardian_mother',\n",
      "       'guardian_other', 'Dalc', 'Walc', 'health', 'absences', 'G1', 'G2',\n",
      "       'G3'],\n",
      "      dtype='object')\n"
     ]
    }
   ],
   "source": [
    "data = pd.read_csv('../input/student_math_por_formatted.csv')\n",
    "print(data.shape)\n",
    "print(data.columns)"
   ]
  },
  {
   "cell_type": "markdown",
   "metadata": {
    "collapsed": true
   },
   "source": [
    "# Modelling\n",
    "\n",
    "\n"
   ]
  },
  {
   "cell_type": "code",
   "execution_count": 98,
   "metadata": {
    "scrolled": true
   },
   "outputs": [
    {
     "data": {
      "text/plain": [
       "Index(['school', 'sex', 'age', 'address', 'famsize', 'Pstatus', 'Medu', 'Fedu',\n",
       "       'traveltime', 'studytime', 'failures', 'schoolsup', 'famsup', 'paid',\n",
       "       'activities', 'nursery', 'higher', 'internet', 'romantic', 'famrel',\n",
       "       'freetime', 'goout', 'subject', 'Mjob_at_home', 'Mjob_health',\n",
       "       'Mjob_other', 'Mjob_services', 'Mjob_teacher', 'Fjob_at_home',\n",
       "       'Fjob_health', 'Fjob_other', 'Fjob_services', 'Fjob_teacher',\n",
       "       'reason_course', 'reason_home', 'reason_other', 'reason_reputation',\n",
       "       'guardian_father', 'guardian_mother', 'guardian_other', 'Dalc', 'Walc',\n",
       "       'health', 'absences', 'G1', 'G2', 'G3'],\n",
       "      dtype='object')"
      ]
     },
     "execution_count": 98,
     "metadata": {},
     "output_type": "execute_result"
    }
   ],
   "source": [
    "cols = data.columns.tolist()\n",
    "#moving the grades and alcohol variables to the end of the list\n",
    "cols = cols[:22] + cols[29:] + cols[22:29] \n",
    "data = data[cols]\n",
    "data.columns"
   ]
  },
  {
   "cell_type": "markdown",
   "metadata": {},
   "source": [
    "## Dropping the obvious\n",
    "\n",
    "Initially, an $r^{2}$ score hovering around 85% would be encouraging.\n",
    "\n",
    "However, I question the usefulness of having G1 and G2 in the model. It is essentially amounting to: \"students who do well in earlier tests tend to do well in later tests.\""
   ]
  },
  {
   "cell_type": "code",
   "execution_count": 100,
   "metadata": {
    "scrolled": true
   },
   "outputs": [
    {
     "data": {
      "image/png": "[encoded data removed]",
      "text/plain": [
       "<matplotlib.figure.Figure at 0x9646870>"
      ]
     },
     "metadata": {},
     "output_type": "display_data"
    }
   ],
   "source": [
    "X = data.iloc[:, :-3] #dropping G1 and G2\n",
    "y = data.iloc[:, -1:]\n",
    "\n",
    "#re-run of the above model with G1 and G2 absent\n",
    "plot_learning_curve(check_linreg_learning_curve);"
   ]
  },
  {
   "cell_type": "markdown",
   "metadata": {},
   "source": [
    "## Learning Curves\n",
    "\n",
    "With relatively small datasets like this, it is important to see how much the small sample size is contributing to underfit or overfit.\n",
    "\n",
    "Learning curves will be plotted to visualise this using training proportions of\n",
    "* 70%\n",
    "* 75%\n",
    "* 80%\n",
    "* 85%\n",
    "* 90%"
   ]
  },
  {
   "cell_type": "code",
   "execution_count": 99,
   "metadata": {},
   "outputs": [
    {
     "data": {
      "image/png": "[encoded data removed]",
      "text/plain": [
       "<matplotlib.figure.Figure at 0xc6ba670>"
      ]
     },
     "metadata": {},
     "output_type": "display_data"
    }
   ],
   "source": [
    "from sklearn.model_selection import train_test_split\n",
    "from sklearn.linear_model import LinearRegression\n",
    "from sklearn.metrics.regression import r2_score\n",
    "from sklearn.feature_selection import RFE\n",
    "\n",
    "train_sizes = [0.7, 0.75, 0.8, 0.85, 0.9]\n",
    "\n",
    "X = data.iloc[:, :-1]\n",
    "y = data.iloc[:, -1:]\n",
    "\n",
    "def plot_learning_curve(algo):\n",
    "    \n",
    "    r2_scores = [algo(train_size) for train_size in train_sizes]\n",
    "    r2_df = pd.DataFrame(data=r2_scores)\n",
    "    \n",
    "    f, (ax1, ax2) = plt.subplots(1,2, sharey=True)\n",
    "    sns.pointplot(\"train_size\", \"r2_train\",  data=r2_df, ax=ax1)\n",
    "    sns.pointplot(\"train_size\", \"r2_test\",  data=r2_df, ax=ax2)\n",
    "    f.suptitle(\"Learning curve (metric=r2)\")\n",
    "    \n",
    "    return r2_df\n",
    "\n",
    "def check_linreg_learning_curve(train_size):\n",
    "    X_train, X_test, y_train, y_test = train_test_split(X, y, train_size=train_size, random_state=0)\n",
    "\n",
    "    linreg = LinearRegression().fit(X_train, y_train)\n",
    "    r2_train = linreg.score(X_train, y_train)\n",
    "    r2_test = linreg.score(X_test, y_test)\n",
    "\n",
    "    return {\"train_size\": train_size, \"r2_train\" : r2_train, \"r2_test\" : r2_test}\n",
    "\n",
    "plot_learning_curve(check_linreg_learning_curve);"
   ]
  },
  {
   "cell_type": "markdown",
   "metadata": {},
   "source": [
    "And now our model looks much less impressive. The low performance on both train and test sets suggest a high bias.\n",
    "\n",
    "Given that our problem isn't overfitting, a Decision Tree Regression might be appropriate.\n",
    "\n",
    "## Decision Tree Regression"
   ]
  },
  {
   "cell_type": "code",
   "execution_count": 101,
   "metadata": {},
   "outputs": [
    {
     "data": {
      "text/html": [
       "<div>\n",
       "<style>\n",
       "    .dataframe thead tr:only-child th {\n",
       "        text-align: right;\n",
       "    }\n",
       "\n",
       "    .dataframe thead th {\n",
       "        text-align: left;\n",
       "    }\n",
       "\n",
       "    .dataframe tbody tr th {\n",
       "        vertical-align: top;\n",
       "    }\n",
       "</style>\n",
       "<table border=\"1\" class=\"dataframe\">\n",
       "  <thead>\n",
       "    <tr style=\"text-align: right;\">\n",
       "      <th></th>\n",
       "      <th>r2_test</th>\n",
       "      <th>r2_train</th>\n",
       "      <th>train_size</th>\n",
       "    </tr>\n",
       "  </thead>\n",
       "  <tbody>\n",
       "    <tr>\n",
       "      <th>0</th>\n",
       "      <td>0.184683</td>\n",
       "      <td>0.151918</td>\n",
       "      <td>0.70</td>\n",
       "    </tr>\n",
       "    <tr>\n",
       "      <th>1</th>\n",
       "      <td>0.188719</td>\n",
       "      <td>0.151443</td>\n",
       "      <td>0.75</td>\n",
       "    </tr>\n",
       "    <tr>\n",
       "      <th>2</th>\n",
       "      <td>0.122064</td>\n",
       "      <td>0.164349</td>\n",
       "      <td>0.80</td>\n",
       "    </tr>\n",
       "    <tr>\n",
       "      <th>3</th>\n",
       "      <td>0.187187</td>\n",
       "      <td>0.157159</td>\n",
       "      <td>0.85</td>\n",
       "    </tr>\n",
       "    <tr>\n",
       "      <th>4</th>\n",
       "      <td>0.190171</td>\n",
       "      <td>0.158189</td>\n",
       "      <td>0.90</td>\n",
       "    </tr>\n",
       "  </tbody>\n",
       "</table>\n",
       "</div>"
      ],
      "text/plain": [
       "    r2_test  r2_train  train_size\n",
       "0  0.184683  0.151918        0.70\n",
       "1  0.188719  0.151443        0.75\n",
       "2  0.122064  0.164349        0.80\n",
       "3  0.187187  0.157159        0.85\n",
       "4  0.190171  0.158189        0.90"
      ]
     },
     "execution_count": 101,
     "metadata": {},
     "output_type": "execute_result"
    },
    {
     "data": {
      "image/png": "[encoded data removed]",
      "text/plain": [
       "<matplotlib.figure.Figure at 0x1a14ebb0>"
      ]
     },
     "metadata": {},
     "output_type": "display_data"
    }
   ],
   "source": [
    "from sklearn.tree import DecisionTreeRegressor\n",
    "from sklearn.model_selection import GridSearchCV\n",
    "\n",
    "def check_decreg_learning_curve(train_size):\n",
    "    X_train, X_test, y_train, y_test = train_test_split(X, y, train_size=train_size, random_state=0)\n",
    "    \n",
    "    parameters = {'max_depth' : [1,5] }\n",
    "\n",
    "    y_train = y_train.G3.values.reshape(-1,)\n",
    "    decreg = DecisionTreeRegressor()\n",
    "    decreg = GridSearchCV(decreg, parameters).fit(X_train, y_train)\n",
    "    \n",
    "    r2_train = decreg.score(X_train, y_train)\n",
    "    r2_test = decreg.score(X_test, y_test)\n",
    "\n",
    "    return {\"train_size\": train_size, \"r2_train\" : r2_train, \"r2_test\" : r2_test}\n",
    "\n",
    "plot_learning_curve(check_decreg_learning_curve)"
   ]
  },
  {
   "cell_type": "markdown",
   "metadata": {},
   "source": [
    "No, that's even worse.\n",
    "\n",
    "To increase performance, we could:\n",
    "\n",
    "* increase the sample size.\n",
    "* increase the number of features.\n",
    "* introduce polynomial features.\n",
    "\n",
    "Play around with regularisation?\n",
    "\n",
    "\n",
    "## Linear Regression with Polynomial Features"
   ]
  },
  {
   "cell_type": "code",
   "execution_count": 102,
   "metadata": {},
   "outputs": [
    {
     "data": {
      "text/plain": [
       "0"
      ]
     },
     "execution_count": 102,
     "metadata": {},
     "output_type": "execute_result"
    },
    {
     "data": {
      "image/png": "[encoded data removed]",
      "text/plain": [
       "<matplotlib.figure.Figure at 0x1b973450>"
      ]
     },
     "metadata": {},
     "output_type": "display_data"
    }
   ],
   "source": [
    "from sklearn.preprocessing import PolynomialFeatures\n",
    "\n",
    "def polylinreg(train_size, degree):\n",
    "    X_train, X_test, y_train, y_test = train_test_split(X, y, train_size=train_size, random_state=0)\n",
    "    poly = PolynomialFeatures(degree=degree)\n",
    "    X_train_poly = poly.fit_transform(X_train)\n",
    "    X_test_poly = poly.fit_transform(X_test)\n",
    "\n",
    "    linreg = LinearRegression().fit(X_train_poly, y_train)\n",
    "    r2_train = linreg.score(X_train_poly, y_train)\n",
    "    r2_test = linreg.score(X_test_poly, y_test)\n",
    "\n",
    "    return {\"degree\" : degree, \"train_size\": train_size, \"r2_train\" : r2_train, \"r2_test\" : r2_test}\n",
    "\n",
    "degrees = [2,3] #if I try for degree>4 I get an \"array is too big\" or memory error\n",
    "\n",
    "def check_polylinreg_learning_curve(train_size):\n",
    "    data = [polylinreg(train_size, degree) for degree in degrees]\n",
    "    data = pd.DataFrame(data=data)\n",
    "    max_test = data.loc[data.r2_test.idxmax()]\n",
    "    return {\n",
    "            \"degree\" : max_test.degree, \n",
    "            \"train_size\": max_test.train_size, \n",
    "            \"r2_train\" : max_test.r2_train, \n",
    "            \"r2_test\" : max_test.r2_test\n",
    "    }\n",
    "    \n",
    "\n",
    "r2_df = plot_learning_curve(check_polylinreg_learning_curve);0\n"
   ]
  },
  {
   "cell_type": "markdown",
   "metadata": {},
   "source": [
    "At first glance, you may feel like there is something wrong with the charts.\n",
    "\n",
    "The introduction of the polynomial features resulted in extreme overfitting with r2_train scores hitting 1.0 for degree 3 (around 0.95 for degree 2) and r2_test scores consistently below 0 (with degree 2 performance even worse)."
   ]
  },
  {
   "cell_type": "code",
   "execution_count": 103,
   "metadata": {
    "scrolled": false
   },
   "outputs": [
    {
     "data": {
      "text/html": [
       "<div>\n",
       "<style>\n",
       "    .dataframe thead tr:only-child th {\n",
       "        text-align: right;\n",
       "    }\n",
       "\n",
       "    .dataframe thead th {\n",
       "        text-align: left;\n",
       "    }\n",
       "\n",
       "    .dataframe tbody tr th {\n",
       "        vertical-align: top;\n",
       "    }\n",
       "</style>\n",
       "<table border=\"1\" class=\"dataframe\">\n",
       "  <thead>\n",
       "    <tr style=\"text-align: right;\">\n",
       "      <th></th>\n",
       "      <th>degree</th>\n",
       "      <th>r2_test</th>\n",
       "      <th>r2_train</th>\n",
       "      <th>train_size</th>\n",
       "    </tr>\n",
       "  </thead>\n",
       "  <tbody>\n",
       "    <tr>\n",
       "      <th>0</th>\n",
       "      <td>3.0</td>\n",
       "      <td>-3.056374</td>\n",
       "      <td>1.0</td>\n",
       "      <td>0.70</td>\n",
       "    </tr>\n",
       "    <tr>\n",
       "      <th>1</th>\n",
       "      <td>3.0</td>\n",
       "      <td>-4.150896</td>\n",
       "      <td>1.0</td>\n",
       "      <td>0.75</td>\n",
       "    </tr>\n",
       "    <tr>\n",
       "      <th>2</th>\n",
       "      <td>3.0</td>\n",
       "      <td>-3.616266</td>\n",
       "      <td>1.0</td>\n",
       "      <td>0.80</td>\n",
       "    </tr>\n",
       "    <tr>\n",
       "      <th>3</th>\n",
       "      <td>3.0</td>\n",
       "      <td>-5.773750</td>\n",
       "      <td>1.0</td>\n",
       "      <td>0.85</td>\n",
       "    </tr>\n",
       "    <tr>\n",
       "      <th>4</th>\n",
       "      <td>3.0</td>\n",
       "      <td>-6.374223</td>\n",
       "      <td>1.0</td>\n",
       "      <td>0.90</td>\n",
       "    </tr>\n",
       "  </tbody>\n",
       "</table>\n",
       "</div>"
      ],
      "text/plain": [
       "   degree   r2_test  r2_train  train_size\n",
       "0     3.0 -3.056374       1.0        0.70\n",
       "1     3.0 -4.150896       1.0        0.75\n",
       "2     3.0 -3.616266       1.0        0.80\n",
       "3     3.0 -5.773750       1.0        0.85\n",
       "4     3.0 -6.374223       1.0        0.90"
      ]
     },
     "execution_count": 103,
     "metadata": {},
     "output_type": "execute_result"
    }
   ],
   "source": [
    "r2_df"
   ]
  },
  {
   "cell_type": "code",
   "execution_count": null,
   "metadata": {
    "collapsed": true
   },
   "outputs": [],
   "source": []
  }
 ],
 "metadata": {
  "kernelspec": {
   "display_name": "Python 3",
   "language": "python",
   "name": "python3"
  },
  "language_info": {
   "codemirror_mode": {
    "name": "ipython",
    "version": 3
   },
   "file_extension": ".py",
   "mimetype": "text/x-python",
   "name": "python",
   "nbconvert_exporter": "python",
   "pygments_lexer": "ipython3",
   "version": "3.6.1"
  }
 },
 "nbformat": 4,
 "nbformat_minor": 2
}
