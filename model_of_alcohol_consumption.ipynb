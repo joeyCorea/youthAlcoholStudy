{
 "cells": [
  {
   "cell_type": "markdown",
   "metadata": {},
   "source": [
    "# Model of alcohol consumption in high school students\n",
    "\n",
    "This section of the analysis will attempt to construct a model to predict:\n",
    "\n",
    "* Walc - level of workday alcohol consumption\n",
    "* Dalc - level of weekend alcohol consumption\n",
    "* binge_drinker - a high level (4-5) of weekend alcohol consumption accompanied by a low level (1-2) of weekday alcohol consumption.\n",
    "* heavy_drinker - a higher level (4-5) of weekend alcohol consumption accompanied by a high level (4-5) of weekday alcohol consumption."
   ]
  },
  {
   "cell_type": "code",
   "execution_count": 52,
   "metadata": {
    "collapsed": true
   },
   "outputs": [],
   "source": [
    "import pandas as pd\n",
    "import numpy as np\n",
    "import matplotlib.ticker as ticker\n",
    "from sklearn.model_selection import train_test_split\n",
    "%matplotlib inline \n",
    "#to allow plots to render in the notebook\n",
    "\n",
    "import matplotlib.pyplot as plt\n",
    "import seaborn as sns\n",
    "\n",
    "plt.rcParams.update({'font.size': 18})"
   ]
  },
  {
   "cell_type": "markdown",
   "metadata": {},
   "source": [
    "# Reading in file and checking columns"
   ]
  },
  {
   "cell_type": "code",
   "execution_count": 53,
   "metadata": {
    "scrolled": true
   },
   "outputs": [
    {
     "name": "stdout",
     "output_type": "stream",
     "text": [
      "(1044, 51)\n",
      "Index(['Unnamed: 0', 'school', 'sex', 'age', 'address', 'famsize', 'Pstatus',\n",
      "       'Medu', 'Fedu', 'traveltime', 'studytime', 'failures', 'schoolsup',\n",
      "       'famsup', 'paid', 'activities', 'nursery', 'higher', 'internet',\n",
      "       'romantic', 'famrel', 'freetime', 'goout', 'Dalc', 'Walc', 'health',\n",
      "       'absences', 'G1', 'G2', 'G3', 'subject', 'Mjob_at_home', 'Mjob_health',\n",
      "       'Mjob_other', 'Mjob_services', 'Mjob_teacher', 'Fjob_at_home',\n",
      "       'Fjob_health', 'Fjob_other', 'Fjob_services', 'Fjob_teacher',\n",
      "       'reason_course', 'reason_home', 'reason_other', 'reason_reputation',\n",
      "       'guardian_father', 'guardian_mother', 'guardian_other', 'binge_drinker',\n",
      "       'heavy_drinker', 'overall_grade'],\n",
      "      dtype='object')\n"
     ]
    }
   ],
   "source": [
    "data = pd.read_csv('../input/student_math_por_formatted.csv')\n",
    "print(data.shape)\n",
    "print(data.columns)"
   ]
  },
  {
   "cell_type": "markdown",
   "metadata": {
    "collapsed": true
   },
   "source": [
    "# Modelling\n",
    "## Predicting Walc / Dalc"
   ]
  },
  {
   "cell_type": "code",
   "execution_count": 55,
   "metadata": {},
   "outputs": [
    {
     "data": {
      "text/plain": [
       "Index(['school', 'sex', 'age', 'address', 'famsize', 'Pstatus', 'Medu', 'Fedu',\n",
       "       'traveltime', 'studytime', 'failures', 'schoolsup', 'famsup', 'paid',\n",
       "       'activities', 'nursery', 'higher', 'internet', 'romantic', 'famrel',\n",
       "       'freetime', 'goout', 'health', 'absences', 'G1', 'G2', 'G3', 'subject',\n",
       "       'Mjob_at_home', 'Mjob_health', 'Mjob_other', 'Mjob_services',\n",
       "       'Mjob_teacher', 'Fjob_at_home', 'Fjob_health', 'Fjob_other',\n",
       "       'Fjob_services', 'Fjob_teacher', 'reason_course', 'reason_home',\n",
       "       'reason_other', 'reason_reputation', 'guardian_father',\n",
       "       'guardian_mother', 'guardian_other', 'overall_grade', 'binge_drinker',\n",
       "       'heavy_drinker', 'Dalc', 'Walc'],\n",
       "      dtype='object')"
      ]
     },
     "execution_count": 55,
     "metadata": {},
     "output_type": "execute_result"
    }
   ],
   "source": [
    "#moving the alcohol related variables to the end of the feature list.\n",
    "cols = data.columns[1:] #to get rid of \"unnamed: 0\" column\n",
    "cols = cols.tolist()\n",
    "Walc_Dalc = cols[22:24]\n",
    "heavy_binge = cols[-3:-1]\n",
    "school_to_goout = cols[:22]\n",
    "health_to_guardian_other =cols[24:-3]\n",
    "overall_grade = [cols[-1]]\n",
    "cols = school_to_goout + health_to_guardian_other + overall_grade + heavy_binge + Walc_Dalc\n",
    "data = data[cols]\n",
    "data.columns"
   ]
  },
  {
   "cell_type": "code",
   "execution_count": 78,
   "metadata": {},
   "outputs": [
    {
     "name": "stdout",
     "output_type": "stream",
     "text": [
      "(783, 46)\n"
     ]
    },
    {
     "name": "stderr",
     "output_type": "stream",
     "text": [
      "C:\\Users\\Joey\\Anaconda3\\lib\\site-packages\\sklearn\\model_selection\\_split.py:2053: FutureWarning: You should specify a value for 'cv' instead of relying on the default value. The default value will change from 3 to 5 in version 0.22.\n",
      "  warnings.warn(CV_WARNING, FutureWarning)\n"
     ]
    },
    {
     "name": "stdout",
     "output_type": "stream",
     "text": [
      "[[161  12   2   3   1]\n",
      " [ 35   7   5   1   0]\n",
      " [ 16   2   4   0   0]\n",
      " [  3   1   4   0   0]\n",
      " [  1   1   1   0   1]]\n",
      "0.726692209451\n",
      "0.662835249042\n",
      "0.685823754789\n"
     ]
    },
    {
     "name": "stderr",
     "output_type": "stream",
     "text": [
      "C:\\Users\\Joey\\Anaconda3\\lib\\site-packages\\sklearn\\model_selection\\_search.py:841: DeprecationWarning: The default of the `iid` parameter will change from True to False in version 0.22 and will be removed in 0.24. This will change numeric results when test-set sizes are unequal.\n",
      "  DeprecationWarning)\n"
     ]
    }
   ],
   "source": [
    "\n",
    "Dalc_X = data.iloc[:, :-4]\n",
    "Dalc_y = data.iloc[:, -2:-1].values.reshape(-1,)\n",
    "\n",
    "X_train, X_test, y_train, y_test = train_test_split(Dalc_X, Dalc_y, random_state=0)\n",
    "\n",
    "from sklearn.discriminant_analysis import LinearDiscriminantAnalysis, QuadraticDiscriminantAnalysis\n",
    "from sklearn.metrics import confusion_matrix\n",
    "from sklearn.model_selection import GridSearchCV\n",
    "from sklearn.pipeline import Pipeline\n",
    "from sklearn.svm import SVC\n",
    "from sklearn.decomposition import PCA\n",
    "from sklearn.preprocessing import RobustScaler, PowerTransformernsformer\n",
    "\n",
    "estimators = [('robust_scaler', RobustScaler()), \n",
    "              ('reduce_dim', PCA()), \n",
    "              ('normalise_pca', PowerTransformer()), #I applied this as the distribution of the PCA factors were skew\n",
    "              ('clf', LinearDiscriminantAnalysis())]\n",
    "\n",
    "print(X_train.shape)\n",
    "\n",
    "pipe = Pipeline(estimators)\n",
    "pipe.fit(X_train, y_train)\n",
    "\n",
    "param_grid = dict(reduce_dim__n_components=[None, 2, 5, 10])\n",
    "grid_search = GridSearchCV(pipe, param_grid=param_grid)\n",
    "grid_search.fit(X_train, y_train)\n",
    "y_pred = pipe.predict(X_test)\n",
    "print(confusion_matrix(y_test, y_pred))\n",
    "#print(grid_search.best_estimator_.steps[-1][1].coef_)\n",
    "print(pipe.score(X_train, y_train))\n",
    "print(pipe.score(X_test, y_test))\n",
    "print(grid_search.score(X_test, y_test))\n"
   ]
  },
  {
   "cell_type": "markdown",
   "metadata": {},
   "source": [
    "Since the EDA suggested a mixture of linear and non-linear relationships, I will use the VarianceThreshold to select features.\n",
    "\n",
    "The first pass, with threshold 0.0, did not eliminate any features. Since the size of the dataset seems to be problematic, I will try to shrink the dimensionality of the prediction problem with an aggressive 0.95 threshold."
   ]
  },
  {
   "cell_type": "code",
   "execution_count": 57,
   "metadata": {},
   "outputs": [
    {
     "data": {
      "text/html": [
       "<div>\n",
       "<style>\n",
       "    .dataframe thead tr:only-child th {\n",
       "        text-align: right;\n",
       "    }\n",
       "\n",
       "    .dataframe thead th {\n",
       "        text-align: left;\n",
       "    }\n",
       "\n",
       "    .dataframe tbody tr th {\n",
       "        vertical-align: top;\n",
       "    }\n",
       "</style>\n",
       "<table border=\"1\" class=\"dataframe\">\n",
       "  <thead>\n",
       "    <tr style=\"text-align: right;\">\n",
       "      <th></th>\n",
       "      <th>feature_name_PCA1</th>\n",
       "      <th>variance_explained_PCA1</th>\n",
       "      <th>feature_name_PCA2</th>\n",
       "      <th>variance_explained_PCA2</th>\n",
       "    </tr>\n",
       "    <tr>\n",
       "      <th>rank</th>\n",
       "      <th></th>\n",
       "      <th></th>\n",
       "      <th></th>\n",
       "      <th></th>\n",
       "    </tr>\n",
       "  </thead>\n",
       "  <tbody>\n",
       "    <tr>\n",
       "      <th>1.0</th>\n",
       "      <td>G3</td>\n",
       "      <td>-0.560277</td>\n",
       "      <td>freetime</td>\n",
       "      <td>-0.682149</td>\n",
       "    </tr>\n",
       "    <tr>\n",
       "      <th>2.0</th>\n",
       "      <td>G2</td>\n",
       "      <td>-0.470097</td>\n",
       "      <td>absences</td>\n",
       "      <td>0.517113</td>\n",
       "    </tr>\n",
       "    <tr>\n",
       "      <th>3.0</th>\n",
       "      <td>overall_grade</td>\n",
       "      <td>-0.465954</td>\n",
       "      <td>famrel</td>\n",
       "      <td>-0.444434</td>\n",
       "    </tr>\n",
       "    <tr>\n",
       "      <th>4.0</th>\n",
       "      <td>G1</td>\n",
       "      <td>-0.389652</td>\n",
       "      <td>goout</td>\n",
       "      <td>-0.140356</td>\n",
       "    </tr>\n",
       "    <tr>\n",
       "      <th>5.0</th>\n",
       "      <td>failures</td>\n",
       "      <td>0.170762</td>\n",
       "      <td>sex</td>\n",
       "      <td>-0.099798</td>\n",
       "    </tr>\n",
       "    <tr>\n",
       "      <th>6.0</th>\n",
       "      <td>studytime</td>\n",
       "      <td>-0.115829</td>\n",
       "      <td>reason_course</td>\n",
       "      <td>-0.085451</td>\n",
       "    </tr>\n",
       "    <tr>\n",
       "      <th>7.0</th>\n",
       "      <td>traveltime</td>\n",
       "      <td>0.089033</td>\n",
       "      <td>studytime</td>\n",
       "      <td>0.082110</td>\n",
       "    </tr>\n",
       "    <tr>\n",
       "      <th>8.0</th>\n",
       "      <td>Medu</td>\n",
       "      <td>-0.085786</td>\n",
       "      <td>activities</td>\n",
       "      <td>-0.072328</td>\n",
       "    </tr>\n",
       "    <tr>\n",
       "      <th>9.0</th>\n",
       "      <td>Fedu</td>\n",
       "      <td>-0.070719</td>\n",
       "      <td>reason_home</td>\n",
       "      <td>0.064152</td>\n",
       "    </tr>\n",
       "    <tr>\n",
       "      <th>10.0</th>\n",
       "      <td>age</td>\n",
       "      <td>0.058480</td>\n",
       "      <td>health</td>\n",
       "      <td>-0.061272</td>\n",
       "    </tr>\n",
       "  </tbody>\n",
       "</table>\n",
       "</div>"
      ],
      "text/plain": [
       "     feature_name_PCA1  variance_explained_PCA1 feature_name_PCA2  \\\n",
       "rank                                                                \n",
       "1.0                 G3                -0.560277          freetime   \n",
       "2.0                 G2                -0.470097          absences   \n",
       "3.0      overall_grade                -0.465954            famrel   \n",
       "4.0                 G1                -0.389652             goout   \n",
       "5.0           failures                 0.170762               sex   \n",
       "6.0          studytime                -0.115829     reason_course   \n",
       "7.0         traveltime                 0.089033         studytime   \n",
       "8.0               Medu                -0.085786        activities   \n",
       "9.0               Fedu                -0.070719       reason_home   \n",
       "10.0               age                 0.058480            health   \n",
       "\n",
       "      variance_explained_PCA2  \n",
       "rank                           \n",
       "1.0                 -0.682149  \n",
       "2.0                  0.517113  \n",
       "3.0                 -0.444434  \n",
       "4.0                 -0.140356  \n",
       "5.0                 -0.099798  \n",
       "6.0                 -0.085451  \n",
       "7.0                  0.082110  \n",
       "8.0                 -0.072328  \n",
       "9.0                  0.064152  \n",
       "10.0                -0.061272  "
      ]
     },
     "execution_count": 57,
     "metadata": {},
     "output_type": "execute_result"
    }
   ],
   "source": [
    "pca_estimator = grid_search.best_estimator_.steps[1][1]\n",
    "pca_df = pd.DataFrame(data=pca_estimator.components_, columns=X_train.columns)\n",
    "pca_df = pca_df.transpose()\n",
    "pca_df.columns = [\"PCA1\", \"PCA2\"]\n",
    "\n",
    "def get_n_largest_features(component_name, n):\n",
    "    #trying to return the top n components with a placing\n",
    "    abs_col = str(component_name + \"_abs\")\n",
    "    pca_df[abs_col] = pca_df[component_name].abs()\n",
    "    components = pca_df.nlargest(n, abs_col)[[component_name, abs_col]]\n",
    "    df = pd.DataFrame(data=components).reset_index()\n",
    "    df[\"rank\"] = df[abs_col].rank(ascending=False)\n",
    "    df = df.loc[:, [\"index\", component_name, \"rank\"]]\n",
    "    df.columns=[\"feature_name\", \"variance_explained\", \"rank\"]\n",
    "    return df\n",
    "\n",
    "\n",
    "\n",
    "#I want a list of the top n features (name, variance_explained) for each components\n",
    "pca1 = get_n_largest_features(\"PCA1\", 10)\n",
    "pca2 = get_n_largest_features(\"PCA2\", 10)\n",
    "pca_df = pd.merge(pca1, pca2, on=\"rank\", suffixes=(\"_PCA1\", \"_PCA2\"))\n",
    "pca_df = pca_df.set_index(\"rank\")\n",
    "pca_df\n",
    "#pca_df.rank()\n",
    "\n",
    "#this comes in later\n",
    "#pca_df[\"explained_variance\"] = pca_estimator.explained_variance_\n",
    "\n",
    "#PCA1 looks like it might be '(lack of) academic application'\n",
    "#PCA2 looks like it might be 'pressure'"
   ]
  },
  {
   "cell_type": "code",
   "execution_count": 58,
   "metadata": {},
   "outputs": [],
   "source": [
    "power_trans = grid_search.best_estimator_.steps[2][1]\n",
    "power_trans = power_trans.transform(pca_results)"
   ]
  },
  {
   "cell_type": "code",
   "execution_count": 73,
   "metadata": {},
   "outputs": [
    {
     "data": {
      "image/png": "[encoded data removed]",
      "text/plain": [
       "<Figure size 720x720 with 1 Axes>"
      ]
     },
     "metadata": {},
     "output_type": "display_data"
    }
   ],
   "source": [
    "pca_results = grid_search.best_estimator_.steps[1][1]\n",
    "pca_results = pca_results.transform(X_train)\n",
    "pca_results = pd.DataFrame(data=pca_results)\n",
    "pca_results.columns = [\"PCA1\", \"PCA2\"]\n",
    "#sns.scatterplot(\"PCA1\", \"PCA2\", data=pca_results);\n",
    "\n",
    "power_trans = grid_search.best_estimator_.steps[2][1]\n",
    "power_trans = power_trans.transform(pca_results)\n",
    "power_trans = pd.DataFrame(data=power_trans)\n",
    "power_trans.columns = [\"PCA1\", \"PCA2\"]\n",
    "power_trans[\"Dalc\"] = y_train\n",
    "f, ax = plt.subplots(1,1, figsize=(10,10))\n",
    "ax = sns.scatterplot(\"PCA1\", \"PCA2\", hue=\"Dalc\", data=power_trans, legend=\"full\"); \n",
    "#if I use the default param for legend, Seaborn will create a weird legend with the following values (0, 1, 3, 4, 6)\n"
   ]
  },
  {
   "cell_type": "code",
   "execution_count": null,
   "metadata": {},
   "outputs": [],
   "source": [
    "#sns.catplot(\"Dalc\", data=power_trans)\n",
    "sns.countplot(\"Dalc\", data=power_trans)"
   ]
  },
  {
   "cell_type": "code",
   "execution_count": null,
   "metadata": {},
   "outputs": [],
   "source": [
    "clf = LinearDiscriminantAnalysis().fit(X_train, y_train)\n",
    "clf.classes_"
   ]
  },
  {
   "cell_type": "code",
   "execution_count": null,
   "metadata": {},
   "outputs": [],
   "source": [
    "sns.distplot(power_trans[\"PCA1\"])"
   ]
  },
  {
   "cell_type": "code",
   "execution_count": null,
   "metadata": {},
   "outputs": [],
   "source": [
    "sns.distplot(power_trans[\"PCA2\"])"
   ]
  },
  {
   "cell_type": "code",
   "execution_count": null,
   "metadata": {},
   "outputs": [],
   "source": [
    "pca_results = grid_search.best_estimator_.steps[3][1]\n",
    "pca_results.classes_"
   ]
  },
  {
   "cell_type": "code",
   "execution_count": null,
   "metadata": {
    "collapsed": true
   },
   "outputs": [],
   "source": [
    "#find the components being passed to LDA"
   ]
  },
  {
   "cell_type": "code",
   "execution_count": null,
   "metadata": {
    "collapsed": true
   },
   "outputs": [],
   "source": [
    "from sklearn.feature_selection import VarianceThreshold\n",
    "\n",
    "#note, even though subject is excluded by the method, \n",
    "#it should not be removed as it will artificially increase the class count\n",
    "#that is, some of these rows are the same student but for different subjects. \n",
    "#See the EDA for more information on reluctance to merge\n",
    "\n",
    "selector = VarianceThreshold(0.95) #possible dataleakage here\n",
    "\n",
    "net_data = data.iloc[:, :-4] #subsetting the data\n",
    "targets = data.iloc[:, -4:]\n",
    "selector.fit_transform(net_data) #performing variance threshold on the subset\n",
    "mask = selector.get_support() #getting the boolean mask\n",
    "new_cols = [[\"subject\"], net_data.columns[mask], targets]\n",
    "new_cols = [item for items in new_cols for item in items]\n",
    "net_data = data[new_cols]\n",
    "net_data.columns"
   ]
  },
  {
   "cell_type": "markdown",
   "metadata": {},
   "source": [
    "In the EDA previous, Walc and Dalc were highly correlated. Thus, to answer a more interesting hypothesis than \"Does weekend alcohol consumption predict weekday alcohol consumption and vice versa\", I will drop the alcohol consumption variables from the input variable set.\n",
    "\n",
    "The following method is to setup the learning curve testing harness."
   ]
  },
  {
   "cell_type": "code",
   "execution_count": null,
   "metadata": {},
   "outputs": [],
   "source": [
    "#train_sizes = [0.7, 0.75, 0.80, 0.85, 0.9, 0.95, 0.99]\n",
    "train_sizes = np.linspace(0.5, 0.9, num=9)\n",
    "\n",
    "gross_Walc = {\n",
    "    \"name\" : \"gross_Walc\",\n",
    "    \"X\" : data.iloc[:, :-4], #index of -4 to pull all variables directly related with alcohol out of the feature set\n",
    "    \"y\" : data.iloc[:, -1:].values.reshape(-1,)\n",
    "}\n",
    "net_Walc = {\n",
    "    \"name\" : \"net_Walc\",\n",
    "    \"X\" : net_data.iloc[:, :-4],\n",
    "    \"y\" : net_data.iloc[:, -1:].values.reshape(-1,)\n",
    "}    \n",
    "gross_Dalc = {\n",
    "    \"name\" : \"gross_Dalc\",\n",
    "    \"X\" : data.iloc[:, :-4], \n",
    "    \"y\" : data.iloc[:, -2:-1].values.reshape(-1,)\n",
    "}\n",
    "net_Dalc = {\n",
    "    \"name\" : \"net_Dalc\",\n",
    "    \"X\" : net_data.iloc[:, :-4],\n",
    "    \"y\" : net_data.iloc[:, -2:-1].values.reshape(-1,)\n",
    "} \n",
    "\n",
    "\n",
    "net_and_gross_data = [gross_Dalc, net_Dalc, gross_Walc, net_Walc]\n",
    "\n",
    "#haven't hooked this up yet. Trying to work out how to pass in the metric to be used.\n",
    "def score_model(model, metric):\n",
    "    \n",
    "    score_train = eval(model + \".\" + metric + \"(X_train, y_train)\")\n",
    "    score_test = model.metric(X_test, y_test)\n",
    "\n",
    "    return {\"score_train\" : score_train, \"score_test\" : score_test }\n",
    "\n",
    "def plot_learning_curve(method, train_sizes, datasets):\n",
    "    \n",
    "    test_and_train_performance = pd.DataFrame(columns=[\"train_size\", \"train_score\", \"test_score\", \"dataset\", \"dataset_scope\", \"target\"])\n",
    "    for dataset in net_and_gross_data:\n",
    "        data = [method(train_size, dataset[\"X\"], dataset[\"y\"]) for train_size in train_sizes]\n",
    "        data = pd.DataFrame(data=data, columns=[\"train_size\", \"train_score\", \"test_score\"])\n",
    "        data[\"dataset\"] = dataset[\"name\"]\n",
    "        data[\"dataset_scope\"] = data[\"dataset\"].str.extractall(r'(\\w{3,5})_').iloc[:, 0].values\n",
    "        data[\"target\"] = data[\"dataset\"].str.extractall(r'_(\\w{4})').iloc[:, 0].values\n",
    "        \n",
    "        test_and_train_performance = pd.concat([test_and_train_performance, data])\n",
    "        \n",
    "    def generate_point_plots(target, set_name):\n",
    "\n",
    "        fig, axes = plt.subplots(1,2, sharey=True, figsize=(28, 12))\n",
    "        fig.suptitle(str(\"Learning Curve (accuracy): \" + set_name))\n",
    "        \n",
    "        curve_data = test_and_train_performance.loc[test_and_train_performance[\"target\"] == target, :]\n",
    "        ax1 = axes[0] \n",
    "        ax2 = axes[1]\n",
    "        sns.pointplot(\"train_size\", \"train_score\", hue=\"dataset_scope\", data=curve_data, ax=ax1)\n",
    "        ax1.set_title(\"train score\")\n",
    "        sns.pointplot(\"train_size\", \"test_score\", hue=\"dataset_scope\", data=curve_data, ax=ax2)\n",
    "        ax2.set_title(\"test score\")\n",
    "        ax2.set_ylabel(\"\")\n",
    "        ax1.set_ylabel(\"score\")\n",
    "\n",
    "    \n",
    "    #names = [item[\"name\"] for item in net_and_gross_data]\n",
    "    generate_point_plots(\"Dalc\",\"Weekend Alcohol Consumption (\\\"Dalc\\\")\")\n",
    "    generate_point_plots(\"Walc\",\"Weekday Alcohol Consumption (\\\"Walc\\\")\")\n",
    "\n",
    "    \n",
    "    test_score = test_and_train_performance[\"test_score\"].groupby(\n",
    "        [test_and_train_performance[\"target\"], test_and_train_performance[\"dataset_scope\"]]\n",
    "    ).mean()\n",
    "    print(\"Mean test score across training set size\")\n",
    "    print(pd.DataFrame(data=test_score))\n",
    "    \n",
    "    return test_and_train_performance"
   ]
  },
  {
   "cell_type": "markdown",
   "metadata": {},
   "source": [
    "## Obtaining Baseline: Stratified Dummy Classifier"
   ]
  },
  {
   "cell_type": "code",
   "execution_count": null,
   "metadata": {
    "collapsed": true
   },
   "outputs": [],
   "source": [
    "from sklearn.dummy import DummyClassifier\n",
    "\n",
    "def check_dummy_learning_curve(train_size, X, y):\n",
    "    X_train, X_test, y_train, y_test = train_test_split(X, y, random_state=0, train_size=train_size)\n",
    "\n",
    "    nbclf = DummyClassifier(strategy=\"most_frequent\", random_state=0).fit(X_train, y_train)\n",
    "    \n",
    "    #just accuracy to start off, but should change to roc_auc\n",
    "    score_train = nbclf.score(X_train, y_train)\n",
    "    score_test = nbclf.score(X_test, y_test)\n",
    "\n",
    "    return(train_size, score_train, score_test)\n",
    "    \n",
    "    \n",
    "plot_learning_curve(check_dummy_learning_curve, train_sizes, net_and_gross_data);"
   ]
  },
  {
   "cell_type": "markdown",
   "metadata": {},
   "source": [
    "You may be wondering where the \"gross\" line is. It has been perfectly superimposed by the \"net\" line (because the stratified dummy classifier predicts the test class targets consistent with the frequency of the training values independent of the features in either set).\n",
    "\n",
    "The dummy classifier has set a baseline against which the other models can be evaluated:\n",
    "* Weekend Drinking (Dalc): 0.68\n",
    "* Weekday Drinking (Walc): 0.36"
   ]
  },
  {
   "cell_type": "markdown",
   "metadata": {},
   "source": [
    "### Naive Bayes\n"
   ]
  },
  {
   "cell_type": "code",
   "execution_count": null,
   "metadata": {
    "collapsed": true
   },
   "outputs": [],
   "source": [
    "from sklearn.naive_bayes import GaussianNB\n",
    "\n",
    "def check_nbclassifier_learning_curve(train_size, X, y):\n",
    "    X_train, X_test, y_train, y_test = train_test_split(X, y, random_state=0, train_size=train_size)\n",
    "\n",
    "    nbclf = GaussianNB().fit(X_train, y_train)\n",
    "    \n",
    "    #just accuracy to start off, but should change to roc_auc\n",
    "    score_train = nbclf.score(X_train, y_train)\n",
    "    score_test = nbclf.score(X_test, y_test)\n",
    "\n",
    "    return(train_size, score_train, score_test)\n",
    "    \n",
    "    \n",
    "plot_learning_curve(check_nbclassifier_learning_curve, train_sizes, net_and_gross_data);"
   ]
  },
  {
   "cell_type": "markdown",
   "metadata": {},
   "source": [
    "Out of the box, \n",
    "* the low performance on the train and test scores suggest underfitting on this model.\n",
    "* the performance is even lower than the dummy classifier, perhaps due to the violation of the independence assumption."
   ]
  },
  {
   "cell_type": "markdown",
   "metadata": {},
   "source": [
    "### Random Forest"
   ]
  },
  {
   "cell_type": "code",
   "execution_count": null,
   "metadata": {
    "collapsed": true
   },
   "outputs": [],
   "source": [
    "from sklearn.ensemble import RandomForestClassifier\n",
    "\n",
    "#even there are a few lines of repeated code here, it felt more sensible to keep it in case I want to change params on the classifier\n",
    "def check_randomforest_learning_curve(train_size, X, y):\n",
    "    X_train, X_test, y_train, y_test = train_test_split(X, y, random_state=0, train_size=train_size)\n",
    "\n",
    "    clf = RandomForestClassifier().fit(X_train, y_train)\n",
    "    \n",
    "    #just accuracy to start off, but should change to roc_auc\n",
    "    score_train = clf.score(X_train, y_train)\n",
    "    score_test = clf.score(X_test, y_test)\n",
    "\n",
    "    return(train_size, score_train, score_test)\n",
    "    \n",
    "    \n",
    "plot_learning_curve(check_randomforest_learning_curve, train_sizes, net_and_gross_data);"
   ]
  },
  {
   "cell_type": "markdown",
   "metadata": {},
   "source": [
    "0.71 Walc, 0.49 on Dalc\n",
    "\n",
    "The test score patterns suggest that more data will greatly increase the strength of this model.\n",
    "\n",
    "However, with random forest models, interpretability suffers. So, while we may have a model that could strongly predict whether a student is at risk of heavy drinking, it is difficult for us to communicate why we believe a student is at risk\n",
    "\n",
    "### Linear Discriminant Analysis"
   ]
  },
  {
   "cell_type": "code",
   "execution_count": null,
   "metadata": {
    "collapsed": true
   },
   "outputs": [],
   "source": [
    "from sklearn.discriminant_analysis import LinearDiscriminantAnalysis\n",
    "\n",
    "#even there are a few lines of repeated code here, it felt more sensible to keep it in case I want to change params on the classifier\n",
    "def check_lda_learning_curve(train_size, X, y):\n",
    "    X_train, X_test, y_train, y_test = train_test_split(X, y, random_state=0, train_size=train_size)\n",
    "\n",
    "    clf = LinearDiscriminantAnalysis().fit(X_train, y_train)\n",
    "    \n",
    "    #just accuracy to start off, but should change to roc_auc\n",
    "    score_train = clf.score(X_train, y_train)\n",
    "    score_test = clf.score(X_test, y_test)\n",
    "\n",
    "    return(train_size, score_train, score_test)\n",
    "    \n",
    "    \n",
    "plot_learning_curve(check_lda_learning_curve, train_sizes, net_and_gross_data);"
   ]
  },
  {
   "cell_type": "markdown",
   "metadata": {},
   "source": [
    "Both on the gross sets\n",
    "0.68\n",
    "0.48"
   ]
  },
  {
   "cell_type": "code",
   "execution_count": null,
   "metadata": {
    "collapsed": true
   },
   "outputs": [],
   "source": [
    "from sklearn.discriminant_analysis import QuadraticDiscriminantAnalysis\n",
    "\n",
    "#even there are a few lines of repeated code here, it felt more sensible to keep it in case I want to change params on the classifier\n",
    "def check_qda_learning_curve(train_size, X, y):\n",
    "    X_train, X_test, y_train, y_test = train_test_split(X, y, random_state=0, train_size=train_size)\n",
    "\n",
    "    clf = QuadraticDiscriminantAnalysis().fit(X_train, y_train)\n",
    "    \n",
    "    #just accuracy to start off, but should change to roc_auc\n",
    "    score_train = clf.score(X_train, y_train)\n",
    "    score_test = clf.score(X_test, y_test)\n",
    "\n",
    "    return(train_size, score_train, score_test)\n",
    "    \n",
    "    \n",
    "#plot_learning_curve(check_qda_learning_curve, train_sizes, net_and_gross_data);0"
   ]
  },
  {
   "cell_type": "markdown",
   "metadata": {},
   "source": [
    "It seems the feature needs to be massaged a little to work with Quadratic. It might only need a little pca.\n",
    "\n",
    "Could just throw up a plot to give the reasons why the model isn't compatible with the data:\n",
    "* collinearity\n",
    "* has only 1 sample in class 1\n",
    "\n",
    "###  KNN"
   ]
  },
  {
   "cell_type": "code",
   "execution_count": null,
   "metadata": {
    "collapsed": true
   },
   "outputs": [],
   "source": [
    "from sklearn.neighbors import KNeighborsClassifier\n",
    "from sklearn.model_selection import learning_curve\n",
    "\n",
    "def check_knn_learning_curve(train_size, X, y):\n",
    "\n",
    "    X_train, X_test, y_train, y_test = train_test_split(X, y, random_state=0, train_size=train_size)\n",
    "    knn = KNeighborsClassifier().fit(X, y)\n",
    "\n",
    "    score_train = knn.score(X_train, y_train)\n",
    "    score_test = knn.score(X_test, y_test)\n",
    "\n",
    "    return(train_size, score_train, score_test)\n",
    "    \n",
    "    \n",
    "plot_learning_curve(check_knn_learning_curve, train_sizes, net_and_gross_data);"
   ]
  },
  {
   "cell_type": "markdown",
   "metadata": {},
   "source": [
    "0.74\n",
    "0.57\n",
    "\n",
    "Unfortunately, the only conclusion that can be made is that the models are unstable with increasing training data size. This points to the dataset as being too small for these models to be effective.\n",
    "## Predicting binge_drinker, heavy_drinker\n"
   ]
  },
  {
   "cell_type": "code",
   "execution_count": null,
   "metadata": {
    "collapsed": true
   },
   "outputs": [],
   "source": [
    "from sklearn.linear_model import LogisticRegression\n",
    "\n",
    "gross_binge_drinker = {\n",
    "    \"name\" : \"gross_binge_dinker\",\n",
    "    \"X\" : data.iloc[:, :-4], \n",
    "    \"y\" : data.iloc[:,-4:-3].values.reshape(-1,)\n",
    "}\n",
    "net_binge_drinker = {\n",
    "    \"name\" : \"net_binge_drinker\",\n",
    "    \"X\" : net_data.iloc[:, :-4],\n",
    "    \"y\" : net_data.iloc[:,-4:-3].values.reshape(-1,)\n",
    "}    \n",
    "gross_heavy_drinker = {\n",
    "    \"name\" : \"gross_heavy_drinker\",\n",
    "    \"X\" : data.iloc[:, :-4], \n",
    "    \"y\" : data.iloc[:, -3:-2].values.reshape(-1,)\n",
    "}\n",
    "net_heavy_drinker = {\n",
    "    \"name\" : \"net_heavy_drinker\",\n",
    "    \"X\" : net_data.iloc[:, :-4],\n",
    "    \"y\" : net_data.iloc[:, -3:-2].values.reshape(-1,)\n",
    "} \n",
    "\n",
    "binge_and_heavy_drinking_patterns = [gross_binge_drinker, net_binge_drinker, gross_heavy_drinker, net_heavy_drinker]"
   ]
  },
  {
   "cell_type": "markdown",
   "metadata": {},
   "source": [
    "### Get baseline: Stratified Dummy Classifier"
   ]
  },
  {
   "cell_type": "code",
   "execution_count": null,
   "metadata": {
    "collapsed": true
   },
   "outputs": [],
   "source": [
    "def check_dummy_drinking_pattern_learning_curve(train_size, X, y):\n",
    "    \n",
    "    X_train, X_test, y_train, y_test = train_test_split(X, y, random_state=0, train_size=train_size)\n",
    "    \n",
    "    clf = DummyClassifier(random_state=0).fit(X, y)\n",
    "\n",
    "    score_train = clf.score(X_train, y_train)\n",
    "    score_test = clf.score(X_test, y_test)\n",
    "\n",
    "    return(train_size, score_train, score_test)\n",
    "\n",
    "plot_learning_curve(check_dummy_drinking_pattern_learning_curve, train_sizes, binge_and_heavy_drinking_patterns);\n",
    "#the first graph shows performance for detecting heavy drinking\n",
    "#the second graph shows performance for detecting binge drinking"
   ]
  },
  {
   "cell_type": "markdown",
   "metadata": {},
   "source": [
    "Heavy drinking - 0.53\n",
    "Binge drinking - 0.21\n",
    "\n",
    "### Logistic Regression"
   ]
  },
  {
   "cell_type": "code",
   "execution_count": null,
   "metadata": {
    "collapsed": true
   },
   "outputs": [],
   "source": [
    "def check_logit_learning_curve(train_size, X, y):\n",
    "\n",
    "    X_train, X_test, y_train, y_test = train_test_split(X, y, random_state=0, train_size=train_size)\n",
    "    \n",
    "    clf = LogisticRegression().fit(X, y)\n",
    "\n",
    "    score_train = clf.score(X_train, y_train)\n",
    "    score_test = clf.score(X_test, y_test)\n",
    "\n",
    "    return(train_size, score_train, score_test)\n",
    "    \n",
    "    \n",
    "plot_learning_curve(check_logit_learning_curve, train_sizes, binge_and_heavy_drinking_patterns);\n"
   ]
  },
  {
   "cell_type": "markdown",
   "metadata": {},
   "source": [
    "* Heavy 0.72\n",
    "* Binge 0.49"
   ]
  },
  {
   "cell_type": "code",
   "execution_count": null,
   "metadata": {},
   "outputs": [],
   "source": [
    "def check_lda_drinking_habits_learning_curve(train_size, X, y):\n",
    "\n",
    "    X_train, X_test, y_train, y_test = train_test_split(X, y, random_state=0, train_size=train_size)\n",
    "    \n",
    "    clf = LinearDiscriminantAnalysis().fit(X, y)\n",
    "    print(clf.classes_)\n",
    "\n",
    "    score_train = clf.score(X_train, y_train)\n",
    "    score_test = clf.score(X_test, y_test)\n",
    "\n",
    "    return(train_size, score_train, score_test)\n",
    "    \n",
    "    \n",
    "plot_learning_curve(check_lda_drinking_habits_learning_curve, train_sizes, binge_and_heavy_drinking_patterns);0"
   ]
  },
  {
   "cell_type": "markdown",
   "metadata": {
    "collapsed": true
   },
   "source": [
    "Heavy - 0.73\n",
    "Binge - 0.48"
   ]
  }
 ],
 "metadata": {
  "kernelspec": {
   "display_name": "Python 3",
   "language": "python",
   "name": "python3"
  },
  "language_info": {
   "codemirror_mode": {
    "name": "ipython",
    "version": 3
   },
   "file_extension": ".py",
   "mimetype": "text/x-python",
   "name": "python",
   "nbconvert_exporter": "python",
   "pygments_lexer": "ipython3",
   "version": "3.6.7"
  }
 },
 "nbformat": 4,
 "nbformat_minor": 2
}
